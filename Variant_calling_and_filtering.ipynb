{
  "nbformat": 4,
  "nbformat_minor": 0,
  "metadata": {
    "colab": {
      "provenance": [],
      "toc_visible": true
    },
    "kernelspec": {
      "name": "python3",
      "display_name": "Python 3"
    },
    "language_info": {
      "name": "python"
    }
  },
  "cells": [
    {
      "cell_type": "markdown",
      "source": [
        "# bcftools mpileup"
      ],
      "metadata": {
        "id": "qh6OGtXMd17-"
      }
    },
    {
      "cell_type": "markdown",
      "source": [
        "Called SNPs by comparing all files to the reference genome"
      ],
      "metadata": {
        "id": "9v48Fb-vu-1h"
      }
    },
    {
      "cell_type": "code",
      "source": [
        "#!/bin/bash\n",
        "\n",
        "module load samtools\n",
        "module load bcftools\n",
        "\n",
        "SAMPLELIST=\"../01-trim_qc/x${SLURM_ARRAY_TASK_ID}.fl\"\n",
        "\n",
        "for SAMPLE in `cat $SAMPLELIST`; do\n",
        "\n",
        "\n",
        "bcftools mpileup -a AD,ADF,DP,ADR,SP -Ou -f ../ref_genome/ref_genome.fa ./sorted/${SAMPLE}_sorted_minq20.bam | bcftools call --threads 8 -mv -Oz -f GQ -o ./GQmpileup/${SAMPLE}.vcf\n",
        "\n",
        "done"
      ],
      "metadata": {
        "id": "nS_V4To0d3Kk"
      },
      "execution_count": null,
      "outputs": []
    },
    {
      "cell_type": "markdown",
      "source": [
        "# vcftools filter"
      ],
      "metadata": {
        "id": "rldiXOTCac1C"
      }
    },
    {
      "cell_type": "markdown",
      "source": [
        "Filtered the files all together with VCFtools"
      ],
      "metadata": {
        "id": "ZXMqYKnxabeA"
      }
    },
    {
      "cell_type": "code",
      "source": [
        "#!/bin/bash\n",
        "\n",
        "module load vcftools\n",
        "\n",
        "vcftools --vcf filename.vcf --minDP 5 --maxDP 200 --max-missing 0.9 --maf 0.05 --minQ 20 --remove-indels --remove-filtered-all --recode --recode-INFO-all --out filtered_filename\n"
      ],
      "metadata": {
        "id": "m1-4Ky3taa37"
      },
      "execution_count": null,
      "outputs": []
    },
    {
      "cell_type": "markdown",
      "source": [
        "# bcftools reheader"
      ],
      "metadata": {
        "id": "Q09mo8z9bF_a"
      }
    },
    {
      "cell_type": "markdown",
      "source": [
        "Reheader samples in .vcf file to correct sample names"
      ],
      "metadata": {
        "id": "Hpab6C0ywoQb"
      }
    },
    {
      "cell_type": "code",
      "source": [
        "#!/bin/bash\n",
        "\n",
        "module load bcftools\n",
        "\n",
        "bcftools reheader -s filelist.txt filtered_filename.vcf -o reheadered_filtered_filename.vcf\n"
      ],
      "metadata": {
        "id": "uWZ29vlQbJWq"
      },
      "execution_count": null,
      "outputs": []
    },
    {
      "cell_type": "markdown",
      "source": [
        "# bcftools sort and index"
      ],
      "metadata": {
        "id": "AtXt8kN2bNlg"
      }
    },
    {
      "cell_type": "markdown",
      "source": [
        "Sort and index the population .vcf file"
      ],
      "metadata": {
        "id": "ARB9zKCibQXa"
      }
    },
    {
      "cell_type": "code",
      "source": [
        "#!/bin/bash\n",
        "\n",
        "module load samtools\n",
        "module load bcftools\n",
        "\n",
        "\n",
        "bcftools sort reheadered_filtered_filename.vcf -Oz z -o reheadered_filtered_filename_sorted.vcf.gz\n",
        "bcftools index -t reheadered_filtered_filename_sorted.vcf.gz"
      ],
      "metadata": {
        "id": "3A0JV6ssbSHM"
      },
      "execution_count": null,
      "outputs": []
    },
    {
      "cell_type": "markdown",
      "source": [
        "# Beagle-haplotype phasing"
      ],
      "metadata": {
        "id": "PVDBcg6XbW82"
      }
    },
    {
      "cell_type": "markdown",
      "source": [
        "Phase the whole population file"
      ],
      "metadata": {
        "id": "oQYxvacRxMHu"
      }
    },
    {
      "cell_type": "code",
      "source": [
        "#!/bin/bash\n",
        "\n",
        "module load beagle/5.4\n",
        "java -Xmx100g -jar ${EBROOTBEAGLE}/beagle.22Jul22.46e.jar\n",
        "java -Xmx100g -jar ${EBROOTBEAGLE}/beagle.22Jul22.46e.jar gt=reheadered_filtered_filename_sorted.vcf.gz window=300 excludemarkers=./markers.txt impute=false out=phased_filename"
      ],
      "metadata": {
        "id": "yBdo4nSgbapc"
      },
      "execution_count": null,
      "outputs": []
    },
    {
      "cell_type": "markdown",
      "source": [
        "# Split population file into individual .vcf files"
      ],
      "metadata": {
        "id": "gCJhzLXwxCx4"
      }
    },
    {
      "cell_type": "code",
      "source": [
        "#!/bin/bash\n",
        "\n",
        "module load bcftools\n",
        "\n",
        "for file in phased_filename.vcf.gz; do\n",
        "  for sample in `bcftools query -l $file`; do\n",
        "    bcftools view -Oz -s $sample -o ${file/.vcf*/.$sample.vcf.gz} $file\n",
        "  done\n",
        "done\n"
      ],
      "metadata": {
        "id": "GKSs5n1_b0or"
      },
      "execution_count": null,
      "outputs": []
    },
    {
      "cell_type": "markdown",
      "source": [
        "# bcftools merge"
      ],
      "metadata": {
        "id": "BJzLn1Zbxscs"
      }
    },
    {
      "cell_type": "markdown",
      "source": [
        "Merge individual .vcf files into two separate populations (non-survivors vs. survivors & immune responders) for comparison"
      ],
      "metadata": {
        "id": "qYqc4bPqx3LV"
      }
    },
    {
      "cell_type": "code",
      "source": [
        "#!/bin/bash\n",
        "\n",
        "\n",
        "module load bcftools\n",
        "\n",
        "bcftools merge --file-list ./filelist.txt -Oz -o merged_populationfile.vcf.gz\n"
      ],
      "metadata": {
        "id": "4nLsz00-yGiU"
      },
      "execution_count": null,
      "outputs": []
    },
    {
      "cell_type": "markdown",
      "source": [
        "# samtools faidx and bcftools consensus"
      ],
      "metadata": {
        "id": "CQ9QuYIxzU3f"
      }
    },
    {
      "cell_type": "markdown",
      "source": [
        "Create consensus sequences based on the reference genome, and output a mega file containing both haplotypes for further analysis. Code adapted from Magid et al. (2022)."
      ],
      "metadata": {
        "id": "ztcQssN2dFzl"
      }
    },
    {
      "cell_type": "code",
      "source": [
        "#!/bin/bash\n",
        "\n",
        "\n",
        "module load samtools\n",
        "module load bcftools\n",
        "\n",
        "counter=1 #counter adds unique number labels to each individual for MEGA format\n",
        "\n",
        "\n",
        "echo \"#MEGA\" > tlr_haplotypes.meg\n",
        "#for loop to output haplotypes for each individual bam file within the final vcf for one TLR region\n",
        "for file in *.bam #loop through the population bam files\n",
        "do\n",
        "base=$(basename $file.bam)\n",
        "echo \"#\"${counter}\"-1\" >> tlr_haplotypes.meg\n",
        "#outputs sequence for phased haplotype 1 for one individual\n",
        "samtools faidx reference.genome.fa chr:1-2 | bcftools consensus phased_filename.vcf.gz -s $base -M N -H 1pIu >> tlr_haplotypes.meg\n",
        "echo \"#\"${counter}\"-2\" >> tlr_haplotypes.meg\n",
        "#outputs sequence for phased haplotype 2 for one individual\n",
        "samtools faidx referencegenome.fa chr:1-2 | bcftools consensus phased_filename.vcf.gz -s $base -M N -H 2pIu >> tlr_haplotypes.meg\n",
        "counter=$(($counter+1))\n",
        "done"
      ],
      "metadata": {
        "id": "pqdhNoDZdUz0"
      },
      "execution_count": null,
      "outputs": []
    },
    {
      "cell_type": "markdown",
      "source": [
        ".meg files with haplotype sequences were imported into DNAsp for analysis of haplotype diversity, nucleotide diversity, and Tajima's D, using the \"DNA Polymorphism\" and \"Tajima's Test\" commands."
      ],
      "metadata": {
        "id": "7hczH2ySzbxt"
      }
    }
  ]
}