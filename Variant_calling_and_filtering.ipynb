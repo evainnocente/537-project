{
  "nbformat": 4,
  "nbformat_minor": 0,
  "metadata": {
    "colab": {
      "provenance": [],
      "authorship_tag": "ABX9TyN8NDQT/7sj9xHYWp5P0TfZ",
      "include_colab_link": true
    },
    "kernelspec": {
      "name": "python3",
      "display_name": "Python 3"
    },
    "language_info": {
      "name": "python"
    }
  },
  "cells": [
    {
      "cell_type": "markdown",
      "metadata": {
        "id": "view-in-github",
        "colab_type": "text"
      },
      "source": [
        "<a href=\"https://colab.research.google.com/github/evainnocente/537-project/blob/main/Variant_calling_and_filtering.ipynb\" target=\"_parent\"><img src=\"https://colab.research.google.com/assets/colab-badge.svg\" alt=\"Open In Colab\"/></a>"
      ]
    },
    {
      "cell_type": "markdown",
      "source": [
        "bcftools mpileup and call"
      ],
      "metadata": {
        "id": "psWGOBuNe7e0"
      }
    },
    {
      "cell_type": "code",
      "execution_count": null,
      "metadata": {
        "id": "xPUYvwwXLt5H"
      },
      "outputs": [],
      "source": [
        "code for project"
      ]
    },
    {
      "cell_type": "markdown",
      "source": [
        "filter"
      ],
      "metadata": {
        "id": "25MLQIxjfAq6"
      }
    },
    {
      "cell_type": "code",
      "source": [],
      "metadata": {
        "id": "1OiFLc5ue_27"
      },
      "execution_count": null,
      "outputs": []
    }
  ]
}