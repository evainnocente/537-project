{
  "nbformat": 4,
  "nbformat_minor": 0,
  "metadata": {
    "colab": {
      "provenance": [],
      "toc_visible": true,
      "authorship_tag": "ABX9TyNdD96WZOxxaiYq187BtLiR",
      "include_colab_link": true
    },
    "kernelspec": {
      "name": "python3",
      "display_name": "Python 3"
    },
    "language_info": {
      "name": "python"
    }
  },
  "cells": [
    {
      "cell_type": "markdown",
      "metadata": {
        "id": "view-in-github",
        "colab_type": "text"
      },
      "source": [
        "<a href=\"https://colab.research.google.com/github/evainnocente/537-project/blob/main/SNP_effects.ipynb\" target=\"_parent\"><img src=\"https://colab.research.google.com/assets/colab-badge.svg\" alt=\"Open In Colab\"/></a>"
      ]
    },
    {
      "cell_type": "markdown",
      "source": [
        "# SnpEff"
      ],
      "metadata": {
        "id": "bOukF_GH0G-z"
      }
    },
    {
      "cell_type": "markdown",
      "source": [
        "I used SnpEff to evaluate the numbers of SNPs in genes of interest and their effects, following this tutorial: https://www.youtube.com/watch?v=-rmreyRAbkE"
      ],
      "metadata": {
        "id": "1gS_QI330JZO"
      }
    },
    {
      "cell_type": "markdown",
      "source": [
        "Split the population .vcf file with the called SNPs into individuals, filter .vcf files individually, then merge them into populations."
      ],
      "metadata": {
        "id": "ZOHp04h00ohu"
      }
    },
    {
      "cell_type": "code",
      "execution_count": null,
      "metadata": {
        "id": "Au-Lq-tM0C7S"
      },
      "outputs": [],
      "source": [
        "#!/bin/bash\n",
        "\n",
        "module load bcftools\n",
        "\n",
        "for file in filename.vcf.gz; do\n",
        "  for sample in `bcftools query -l $file`; do\n",
        "    bcftools view -Oz -s $sample -o ${file/.vcf*/.$sample.vcf.gz} $file\n",
        "  done\n",
        "done"
      ]
    },
    {
      "cell_type": "code",
      "source": [
        "#!/bin/bash\n",
        "\n",
        "module load vcftools\n",
        "\n",
        "for file in *.vcf.gz; do\n",
        "vcftools --gzvcf $file --minDP 5 --maxDP 200 --max-missing 0.9 --maf 0.05 --minQ 20 --remove-indels --remove-filtered-all --recode --recode-INFO-all --out ${file}_filtered\n",
        "done"
      ],
      "metadata": {
        "id": "tq5H8sjP1KAN"
      },
      "execution_count": null,
      "outputs": []
    },
    {
      "cell_type": "code",
      "source": [
        "#!/bin/bash\n",
        "\n",
        "module load bcftools\n",
        "\n",
        "bcftools merge --file-list ./filelist.txt -Oz -o merged_filename.vcf.gz"
      ],
      "metadata": {
        "id": "DhBlkRSf1P0f"
      },
      "execution_count": null,
      "outputs": []
    },
    {
      "cell_type": "markdown",
      "source": [
        "Copy the SnpEff config file to your own folder"
      ],
      "metadata": {
        "id": "hUKd8OWE1Zug"
      }
    },
    {
      "cell_type": "code",
      "source": [
        "cp path/to/snpeff/snpEff.config"
      ],
      "metadata": {
        "id": "26dnIIgV1vOq"
      },
      "execution_count": null,
      "outputs": []
    },
    {
      "cell_type": "markdown",
      "source": [
        "Edit the snpEff.config in order to build a custom database"
      ],
      "metadata": {
        "id": "_X2BEf7I12WI"
      }
    },
    {
      "cell_type": "code",
      "source": [
        "# edit snpEff.config\n",
        "nano snpEff.config\n",
        "# go to beneath Non-standard databases\n",
        " #comment organism name:\n",
        "\n",
        "## Organism name\n",
        "reference.genome : Organism name\n",
        "\n",
        "#where reference is the name of the folder where you have your sequences.fa and genes.gff annotation file\n",
        "\n",
        "#save changes"
      ],
      "metadata": {
        "id": "MxvI29CH2CF7"
      },
      "execution_count": null,
      "outputs": []
    },
    {
      "cell_type": "markdown",
      "source": [
        "Build database"
      ],
      "metadata": {
        "id": "y4mBQKHy2Tfd"
      }
    },
    {
      "cell_type": "code",
      "source": [
        "module load snpeff/5.0 #this will also load the relevant java module\n",
        "java -jar $EBROOTSNPEFF/snpEff.jar build -gff3 -v foldername #where -v is your folder with sequence files\n",
        "#-gff3 for gff annotation files and -gtf22 for .gtf"
      ],
      "metadata": {
        "id": "3tss9uL92XM6"
      },
      "execution_count": null,
      "outputs": []
    },
    {
      "cell_type": "markdown",
      "source": [
        "Run SnpEff"
      ],
      "metadata": {
        "id": "KpLL7RP42kpU"
      }
    },
    {
      "cell_type": "code",
      "source": [
        "#!/bin/bash\n",
        "\n",
        "module load snpeff/5.0\n",
        "java -jar $EBROOTSNPEFF/snpEff.jar databasename vcfs/merged_filename.vcf.gz > filename_snpeff.ann.vcf"
      ],
      "metadata": {
        "id": "7U6BERl62cDj"
      },
      "execution_count": null,
      "outputs": []
    },
    {
      "cell_type": "markdown",
      "source": [
        "Be sure to rename SnpEff output summary files or they will get overwritten."
      ],
      "metadata": {
        "id": "vhZ1GY6-2vfp"
      }
    }
  ]
}